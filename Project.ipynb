{
 "cells": [
  {
   "cell_type": "markdown",
   "id": "35655060",
   "metadata": {},
   "source": [
    "### Titanic Surviver Machine Learning Project\n",
    "#### 28th of April 2022"
   ]
  },
  {
   "cell_type": "code",
   "execution_count": 1,
   "id": "a74b6379",
   "metadata": {},
   "outputs": [],
   "source": [
    "import pandas as pd\n",
    "from sklearn.linear_model import LogisticRegression\n",
    "from sklearn.ensemble import RandomForestClassifier\n",
    "from sklearn.model_selection import train_test_split\n",
    "from sklearn.metrics import accuracy_score, precision_score, recall_score, classification_report\n",
    "from sklearn.metrics import confusion_matrix, ConfusionMatrixDisplay\n",
    "from sklearn.metrics import RocCurveDisplay, roc_curve, roc_auc_score\n",
    "from sklearn.metrics import precision_recall_curve, plot_precision_recall_curve\n",
    "import matplotlib.pyplot as plt\n",
    "import seaborn as sns\n",
    "import numpy as np\n",
    "from sklearn.impute import SimpleImputer\n",
    "from sklearn.preprocessing import OneHotEncoder\n",
    "import random"
   ]
  },
  {
   "cell_type": "code",
   "execution_count": 2,
   "id": "f14e10f1",
   "metadata": {},
   "outputs": [],
   "source": [
    "# get data\n",
    "tit = pd.read_csv(\"titanic/train.csv\")\n",
    "test = pd.read_csv(\"titanic/test.csv\")"
   ]
  },
  {
   "cell_type": "code",
   "execution_count": 3,
   "id": "18a36d76",
   "metadata": {},
   "outputs": [],
   "source": [
    "# Spit data into train and test\n",
    "tit_train, tit_test = train_test_split(tit, random_state=1)"
   ]
  },
  {
   "cell_type": "code",
   "execution_count": 4,
   "id": "c519a968",
   "metadata": {},
   "outputs": [
    {
     "data": {
      "image/png": "[encoded data removed]",
      "text/plain": [
       "<Figure size 432x288 with 6 Axes>"
      ]
     },
     "metadata": {
      "needs_background": "light"
     },
     "output_type": "display_data"
    }
   ],
   "source": [
    "# Plot data\n",
    "fig, axs = plt.subplots(3,2)\n",
    "plt.tight_layout()\n",
    "sns.barplot(ax=axs[2,0], data=tit_train, x=\"Sex\", y=\"Survived\")\n",
    "sns.boxplot(ax=axs[0,0],data=tit_train, y=\"Age\",x=\"Survived\")\n",
    "sns.barplot(ax=axs[0,1], data=tit_train, x=\"Parch\", y=\"Survived\")\n",
    "sns.barplot(ax=axs[1,0],data=tit_train,x=\"Pclass\",y=\"Survived\")\n",
    "sns.violinplot(ax=axs[1,1],data=tit_train,y=\"Fare\",x=\"Survived\")\n",
    "plt.show()"
   ]
  },
  {
   "cell_type": "code",
   "execution_count": 5,
   "id": "d59247b1",
   "metadata": {
    "scrolled": true
   },
   "outputs": [
    {
     "name": "stdout",
     "output_type": "stream",
     "text": [
      "PassengerId      0\n",
      "Survived         0\n",
      "Pclass           0\n",
      "Name             0\n",
      "Sex              0\n",
      "Age            133\n",
      "SibSp            0\n",
      "Parch            0\n",
      "Ticket           0\n",
      "Fare             0\n",
      "Cabin          519\n",
      "Embarked         1\n",
      "dtype: int64\n",
      "0.19910179640718562\n",
      "0.7769461077844312\n"
     ]
    }
   ],
   "source": [
    "# Overview of data (NaN)\n",
    "print(tit_train.isna().sum())\n",
    "print(tit_train[\"Age\"].isna().sum()/len(tit_train.index))\t\t# 20% of data is missing --> maybe keep?\n",
    "print(tit_train[\"Cabin\"].isna().sum()/len(tit_train.index))\t\t# 77% of data is missing --> drop"
   ]
  },
  {
   "cell_type": "code",
   "execution_count": 6,
   "id": "3f028c51",
   "metadata": {},
   "outputs": [],
   "source": [
    "# Drop all columns that are unimportant\n",
    "tit_train.drop([\"Name\", \"Ticket\", \"Cabin\"], axis=1, inplace=True)"
   ]
  },
  {
   "cell_type": "code",
   "execution_count": 7,
   "id": "aa722a29",
   "metadata": {},
   "outputs": [
    {
     "name": "stderr",
     "output_type": "stream",
     "text": [
      "/tmp/ipykernel_7466/878788826.py:3: SettingWithCopyWarning: \n",
      "A value is trying to be set on a copy of a slice from a DataFrame\n",
      "\n",
      "See the caveats in the documentation: https://pandas.pydata.org/pandas-docs/stable/user_guide/indexing.html#returning-a-view-versus-a-copy\n",
      "  tit_train[\"Child\"][tit_train[\"Age\"] <= 17] = 1\n",
      "/tmp/ipykernel_7466/878788826.py:4: SettingWithCopyWarning: \n",
      "A value is trying to be set on a copy of a slice from a DataFrame\n",
      "\n",
      "See the caveats in the documentation: https://pandas.pydata.org/pandas-docs/stable/user_guide/indexing.html#returning-a-view-versus-a-copy\n",
      "  tit_train[\"Child\"][tit_train[\"Age\"] > 17] = 0\n"
     ]
    }
   ],
   "source": [
    "# Add column child\n",
    "tit_train[\"Child\"] = \"NaN\"\n",
    "tit_train[\"Child\"][tit_train[\"Age\"] <= 17] = 1\n",
    "tit_train[\"Child\"][tit_train[\"Age\"] > 17] = 0\n",
    "tit_train = tit_train.sort_index()"
   ]
  },
  {
   "cell_type": "code",
   "execution_count": 8,
   "id": "66714e01",
   "metadata": {},
   "outputs": [],
   "source": [
    "# Get indices of new DataFrame\n",
    "index_train = []\n",
    "for i in tit_train.index:\n",
    "\tindex_train.append(i)\n",
    "index_train = np.array(index_train)"
   ]
  },
  {
   "cell_type": "code",
   "execution_count": 9,
   "id": "aff874f2",
   "metadata": {},
   "outputs": [],
   "source": [
    "# Change single NaN of \"Embarked\" to most frequent value\n",
    "emb_freq = SimpleImputer(strategy=\"most_frequent\")\n",
    "cols = tit_train[[\"Embarked\"]]\n",
    "emb_freq.fit(cols)\n",
    "emb_freq_t = emb_freq.transform(cols)\n",
    "emb_freq_pd = pd.DataFrame(emb_freq_t, columns = cols.columns)\n",
    "emb_freq_pd = emb_freq_pd.set_index(keys=index_train)\n",
    "tit_train[\"Embarked\"] = emb_freq_pd[\"Embarked\"]"
   ]
  },
  {
   "cell_type": "code",
   "execution_count": 10,
   "id": "ff2d1e01",
   "metadata": {},
   "outputs": [
    {
     "name": "stderr",
     "output_type": "stream",
     "text": [
      "/home/jens/anaconda3/lib/python3.9/site-packages/sklearn/utils/deprecation.py:87: FutureWarning: Function get_feature_names is deprecated; get_feature_names is deprecated in 1.0 and will be removed in 1.2. Please use get_feature_names_out instead.\n",
      "  warnings.warn(msg, category=FutureWarning)\n"
     ]
    }
   ],
   "source": [
    "# Transform \"Embarked\" into binary\n",
    "emb_ohc = OneHotEncoder(sparse=False, handle_unknown='ignore')\n",
    "emb_ohc.fit(tit_train[[\"Embarked\"]])\n",
    "emb_t = emb_ohc.transform(tit_train[[\"Embarked\"]])\n",
    "emb_pd = pd.DataFrame(emb_t, columns = emb_ohc.get_feature_names())\n",
    "emb_pd = emb_pd.set_index(keys=index_train)\n",
    "tit_train = tit_train.join(emb_pd)"
   ]
  },
  {
   "cell_type": "code",
   "execution_count": 11,
   "id": "93210e60",
   "metadata": {},
   "outputs": [
    {
     "name": "stderr",
     "output_type": "stream",
     "text": [
      "/home/jens/anaconda3/lib/python3.9/site-packages/sklearn/utils/deprecation.py:87: FutureWarning: Function get_feature_names is deprecated; get_feature_names is deprecated in 1.0 and will be removed in 1.2. Please use get_feature_names_out instead.\n",
      "  warnings.warn(msg, category=FutureWarning)\n"
     ]
    }
   ],
   "source": [
    "# Transform \"Sex\" into binary\n",
    "sex_ohc = OneHotEncoder(sparse=False, handle_unknown=\"ignore\")\n",
    "sex_ohc.fit(tit_train[[\"Sex\"]])\n",
    "sex_t = sex_ohc.transform(tit_train[[\"Sex\"]])\n",
    "sex_pd = pd.DataFrame(sex_t, columns=sex_ohc.get_feature_names())\n",
    "sex_pd = sex_pd.set_index(keys=index_train)\n",
    "tit_train = tit_train.join(sex_pd)"
   ]
  },
  {
   "cell_type": "code",
   "execution_count": 12,
   "id": "6f99afc4",
   "metadata": {},
   "outputs": [],
   "source": [
    "# Drop columns (old Embarked and Sex)\n",
    "tit_train.drop([\"Embarked\", \"Sex\"], axis=1, inplace=True)\n",
    "tit_train.dropna(inplace=True)"
   ]
  },
  {
   "cell_type": "code",
   "execution_count": 13,
   "id": "397b0c93",
   "metadata": {},
   "outputs": [
    {
     "name": "stdout",
     "output_type": "stream",
     "text": [
      "PassengerId    0\n",
      "Survived       0\n",
      "Pclass         0\n",
      "Age            0\n",
      "SibSp          0\n",
      "Parch          0\n",
      "Fare           0\n",
      "Child          0\n",
      "x0_C           0\n",
      "x0_Q           0\n",
      "x0_S           0\n",
      "x0_female      0\n",
      "x0_male        0\n",
      "dtype: int64\n"
     ]
    }
   ],
   "source": [
    "# Check if all NaN are gone \n",
    "print(tit_train.isna().sum())"
   ]
  },
  {
   "cell_type": "code",
   "execution_count": 14,
   "id": "ce4740cc",
   "metadata": {},
   "outputs": [
    {
     "name": "stderr",
     "output_type": "stream",
     "text": [
      "/tmp/ipykernel_7466/3528309042.py:4: SettingWithCopyWarning: \n",
      "A value is trying to be set on a copy of a slice from a DataFrame\n",
      "\n",
      "See the caveats in the documentation: https://pandas.pydata.org/pandas-docs/stable/user_guide/indexing.html#returning-a-view-versus-a-copy\n",
      "  tit_test[\"Child\"][tit_test[\"Age\"] <= 17] = 1\n",
      "/tmp/ipykernel_7466/3528309042.py:5: SettingWithCopyWarning: \n",
      "A value is trying to be set on a copy of a slice from a DataFrame\n",
      "\n",
      "See the caveats in the documentation: https://pandas.pydata.org/pandas-docs/stable/user_guide/indexing.html#returning-a-view-versus-a-copy\n",
      "  tit_test[\"Child\"][tit_test[\"Age\"] > 17] = 0\n"
     ]
    }
   ],
   "source": [
    "### Transform test data\n",
    "# Add column child\n",
    "tit_test[\"Child\"] = \"NaN\"\n",
    "tit_test[\"Child\"][tit_test[\"Age\"] <= 17] = 1\n",
    "tit_test[\"Child\"][tit_test[\"Age\"] > 17] = 0\n",
    "tit_test = tit_test.sort_index()"
   ]
  },
  {
   "cell_type": "code",
   "execution_count": 15,
   "id": "7466c3d1",
   "metadata": {},
   "outputs": [],
   "source": [
    "# Get indices of test data \n",
    "tit_test = tit_test.sort_index()\n",
    "index_test = []\n",
    "for i in tit_test.index:\n",
    "\tindex_test.append(i)\n",
    "index_test = np.array(index_test)"
   ]
  },
  {
   "cell_type": "code",
   "execution_count": 16,
   "id": "4b09116c",
   "metadata": {},
   "outputs": [],
   "source": [
    "# Transform NaN in Embarkment\n",
    "cols = tit_test[[\"Embarked\"]]\n",
    "emb_freq_t = emb_freq.transform(cols)\n",
    "emb_freq_pd = pd.DataFrame(emb_freq_t, columns = cols.columns)\n",
    "emb_freq_pd = emb_freq_pd.set_index(keys=index_test)\n",
    "tit_test[\"Embarked\"] = emb_freq_pd[\"Embarked\"]"
   ]
  },
  {
   "cell_type": "code",
   "execution_count": 17,
   "id": "d0477569",
   "metadata": {},
   "outputs": [
    {
     "name": "stderr",
     "output_type": "stream",
     "text": [
      "/home/jens/anaconda3/lib/python3.9/site-packages/sklearn/utils/deprecation.py:87: FutureWarning: Function get_feature_names is deprecated; get_feature_names is deprecated in 1.0 and will be removed in 1.2. Please use get_feature_names_out instead.\n",
      "  warnings.warn(msg, category=FutureWarning)\n"
     ]
    }
   ],
   "source": [
    "# Transform \"Embarked\" into binary\n",
    "emb_t = emb_ohc.transform(tit_test[[\"Embarked\"]])\n",
    "emb_pd = pd.DataFrame(emb_t, columns = emb_ohc.get_feature_names())\n",
    "emb_pd = emb_pd.set_index(keys=index_test)\n",
    "tit_test = tit_test.join(emb_pd)"
   ]
  },
  {
   "cell_type": "code",
   "execution_count": 18,
   "id": "0e14111e",
   "metadata": {},
   "outputs": [
    {
     "name": "stderr",
     "output_type": "stream",
     "text": [
      "/home/jens/anaconda3/lib/python3.9/site-packages/sklearn/utils/deprecation.py:87: FutureWarning: Function get_feature_names is deprecated; get_feature_names is deprecated in 1.0 and will be removed in 1.2. Please use get_feature_names_out instead.\n",
      "  warnings.warn(msg, category=FutureWarning)\n"
     ]
    }
   ],
   "source": [
    "# Transform \"Sex\" into binary\n",
    "sex_t = sex_ohc.transform(tit_test[[\"Sex\"]])\n",
    "sex_pd = pd.DataFrame(sex_t, columns=sex_ohc.get_feature_names())\n",
    "sex_pd = sex_pd.set_index(keys=index_test)\n",
    "tit_test = tit_test.join(sex_pd)"
   ]
  },
  {
   "cell_type": "code",
   "execution_count": 19,
   "id": "e6ad3908",
   "metadata": {},
   "outputs": [],
   "source": [
    "# Drop unnecessary columns\n",
    "tit_test.drop([\"Sex\", \"Embarked\", \"Name\", \"Ticket\", \"Cabin\"], inplace=True, axis=1)"
   ]
  },
  {
   "cell_type": "code",
   "execution_count": 20,
   "id": "8ac54824",
   "metadata": {},
   "outputs": [
    {
     "name": "stdout",
     "output_type": "stream",
     "text": [
      "PassengerId     0\n",
      "Survived        0\n",
      "Pclass          0\n",
      "Age            44\n",
      "SibSp           0\n",
      "Parch           0\n",
      "Fare            0\n",
      "Child           0\n",
      "x0_C            0\n",
      "x0_Q            0\n",
      "x0_S            0\n",
      "x0_female       0\n",
      "x0_male         0\n",
      "dtype: int64\n",
      "PassengerId    0\n",
      "Survived       0\n",
      "Pclass         0\n",
      "Age            0\n",
      "SibSp          0\n",
      "Parch          0\n",
      "Fare           0\n",
      "Child          0\n",
      "x0_C           0\n",
      "x0_Q           0\n",
      "x0_S           0\n",
      "x0_female      0\n",
      "x0_male        0\n",
      "dtype: int64\n"
     ]
    }
   ],
   "source": [
    "# Drop Age NaN\n",
    "print(tit_test.isna().sum())\n",
    "tit_test.dropna(inplace=True)\n",
    "print(tit_test.isna().sum())"
   ]
  },
  {
   "cell_type": "code",
   "execution_count": 21,
   "id": "9b25db17",
   "metadata": {},
   "outputs": [
    {
     "name": "stdout",
     "output_type": "stream",
     "text": [
      "0.7932960893854749\n",
      "0.8412698412698413\n",
      "0.6625\n",
      "Index(['PassengerId', 'Pclass', 'Age', 'SibSp', 'Parch', 'Fare', 'Child',\n",
      "       'x0_C', 'x0_Q', 'x0_S', 'x0_female', 'x0_male'],\n",
      "      dtype='object')\n",
      "[0.08971568 0.13408944 0.11740612 0.04340126 0.03874556 0.13222444\n",
      " 0.03261527 0.0177076  0.00602782 0.01524592 0.18214188 0.19067902]\n",
      "     PassengerId  Pclass   Age  SibSp  Parch     Fare Child  x0_C  x0_Q  x0_S  \\\n",
      "0              1       3  22.0      1      0   7.2500     0   0.0   0.0   1.0   \n",
      "1              2       1  38.0      1      0  71.2833     0   1.0   0.0   0.0   \n",
      "4              5       3  35.0      0      0   8.0500     0   0.0   0.0   1.0   \n",
      "7              8       3   2.0      3      1  21.0750     1   0.0   0.0   1.0   \n",
      "9             10       2  14.0      1      0  30.0708     1   1.0   0.0   0.0   \n",
      "..           ...     ...   ...    ...    ...      ...   ...   ...   ...   ...   \n",
      "883          884       2  28.0      0      0  10.5000     0   0.0   0.0   1.0   \n",
      "884          885       3  25.0      0      0   7.0500     0   0.0   0.0   1.0   \n",
      "886          887       2  27.0      0      0  13.0000     0   0.0   0.0   1.0   \n",
      "889          890       1  26.0      0      0  30.0000     0   1.0   0.0   0.0   \n",
      "890          891       3  32.0      0      0   7.7500     0   0.0   1.0   0.0   \n",
      "\n",
      "     x0_female  x0_male  \n",
      "0          0.0      1.0  \n",
      "1          1.0      0.0  \n",
      "4          0.0      1.0  \n",
      "7          0.0      1.0  \n",
      "9          1.0      0.0  \n",
      "..         ...      ...  \n",
      "883        0.0      1.0  \n",
      "884        0.0      1.0  \n",
      "886        0.0      1.0  \n",
      "889        0.0      1.0  \n",
      "890        0.0      1.0  \n",
      "\n",
      "[535 rows x 12 columns]\n"
     ]
    }
   ],
   "source": [
    "# Create X and y\n",
    "X_train = tit_train.loc[:, tit_train.columns != \"Survived\"]\n",
    "y_train = tit_train[\"Survived\"]\n",
    "X_test = tit_test.loc[:, tit_test.columns != \"Survived\"]\n",
    "y_test = tit_test[\"Survived\"]\n",
    "\n",
    "forest = RandomForestClassifier(n_estimators = 100, max_depth = 6, random_state=1)\n",
    "forest.fit(X_train, y_train)\n",
    "pred = forest.predict(X_test)\n",
    "\n",
    "print(accuracy_score(y_test, pred))\n",
    "print(precision_score(y_test, pred))\n",
    "print(recall_score(y_test, pred))\n",
    "print(X_train.columns)\n",
    "print(forest.feature_importances_)\n",
    "print(X_train)"
   ]
  },
  {
   "cell_type": "code",
   "execution_count": 22,
   "id": "a6ec097c",
   "metadata": {},
   "outputs": [
    {
     "name": "stdout",
     "output_type": "stream",
     "text": [
      "PassengerId      0\n",
      "Pclass           0\n",
      "Name             0\n",
      "Sex              0\n",
      "Age             86\n",
      "SibSp            0\n",
      "Parch            0\n",
      "Ticket           0\n",
      "Fare             1\n",
      "Cabin          327\n",
      "Embarked         0\n",
      "dtype: int64\n"
     ]
    }
   ],
   "source": [
    "### Transform REAL test data\n",
    "# Change nan Values in Age to random number and nan in Fare to mean\n",
    "print(test.isna().sum())\n",
    "test[\"Age\"] = test[\"Age\"].fillna(random.randint(0, test[\"Age\"].max()))\n",
    "test[\"Fare\"] = test[\"Fare\"].fillna(test[\"Fare\"].mean())"
   ]
  },
  {
   "cell_type": "code",
   "execution_count": 23,
   "id": "c4c62205",
   "metadata": {},
   "outputs": [
    {
     "name": "stderr",
     "output_type": "stream",
     "text": [
      "/tmp/ipykernel_7466/2906669089.py:3: SettingWithCopyWarning: \n",
      "A value is trying to be set on a copy of a slice from a DataFrame\n",
      "\n",
      "See the caveats in the documentation: https://pandas.pydata.org/pandas-docs/stable/user_guide/indexing.html#returning-a-view-versus-a-copy\n",
      "  test[\"Child\"][test[\"Age\"] <= 17] = 1\n",
      "/tmp/ipykernel_7466/2906669089.py:4: SettingWithCopyWarning: \n",
      "A value is trying to be set on a copy of a slice from a DataFrame\n",
      "\n",
      "See the caveats in the documentation: https://pandas.pydata.org/pandas-docs/stable/user_guide/indexing.html#returning-a-view-versus-a-copy\n",
      "  test[\"Child\"][test[\"Age\"] > 17] = 0\n"
     ]
    }
   ],
   "source": [
    "# Add column child\n",
    "test[\"Child\"] = \"NaN\"\n",
    "test[\"Child\"][test[\"Age\"] <= 17] = 1\n",
    "test[\"Child\"][test[\"Age\"] > 17] = 0\n",
    "test = test.sort_index()"
   ]
  },
  {
   "cell_type": "code",
   "execution_count": 24,
   "id": "2c1f96ce",
   "metadata": {},
   "outputs": [],
   "source": [
    "# Get indices of test data \n",
    "test = test.sort_index()\n",
    "index_test_real = []\n",
    "for i in test.index:\n",
    "\tindex_test_real.append(i)\n",
    "index_test_real = np.array(index_test_real)"
   ]
  },
  {
   "cell_type": "code",
   "execution_count": 25,
   "id": "cc146f26",
   "metadata": {},
   "outputs": [],
   "source": [
    "# Transform NaN in Embarkment\n",
    "cols = test[[\"Embarked\"]]\n",
    "emb_freq_t = emb_freq.transform(cols)\n",
    "emb_freq_pd = pd.DataFrame(emb_freq_t, columns = cols.columns)\n",
    "emb_freq_pd = emb_freq_pd.set_index(keys=index_test_real)\n",
    "test[\"Embarked\"] = emb_freq_pd[\"Embarked\"]"
   ]
  },
  {
   "cell_type": "code",
   "execution_count": 26,
   "id": "57a9b48c",
   "metadata": {},
   "outputs": [
    {
     "name": "stderr",
     "output_type": "stream",
     "text": [
      "/home/jens/anaconda3/lib/python3.9/site-packages/sklearn/utils/deprecation.py:87: FutureWarning: Function get_feature_names is deprecated; get_feature_names is deprecated in 1.0 and will be removed in 1.2. Please use get_feature_names_out instead.\n",
      "  warnings.warn(msg, category=FutureWarning)\n"
     ]
    }
   ],
   "source": [
    "# Transform \"Embarked\" into binary\n",
    "emb_t = emb_ohc.transform(test[[\"Embarked\"]])\n",
    "emb_pd = pd.DataFrame(emb_t, columns = emb_ohc.get_feature_names())\n",
    "emb_pd = emb_pd.set_index(keys=index_test_real)\n",
    "test = test.join(emb_pd)"
   ]
  },
  {
   "cell_type": "code",
   "execution_count": 27,
   "id": "0c8df5a6",
   "metadata": {},
   "outputs": [
    {
     "name": "stderr",
     "output_type": "stream",
     "text": [
      "/home/jens/anaconda3/lib/python3.9/site-packages/sklearn/utils/deprecation.py:87: FutureWarning: Function get_feature_names is deprecated; get_feature_names is deprecated in 1.0 and will be removed in 1.2. Please use get_feature_names_out instead.\n",
      "  warnings.warn(msg, category=FutureWarning)\n"
     ]
    }
   ],
   "source": [
    "# Transform \"Sex\" into binary\n",
    "sex_t = sex_ohc.transform(test[[\"Sex\"]])\n",
    "sex_pd = pd.DataFrame(sex_t, columns=sex_ohc.get_feature_names())\n",
    "sex_pd = sex_pd.set_index(keys=index_test_real)\n",
    "test = test.join(sex_pd)"
   ]
  },
  {
   "cell_type": "code",
   "execution_count": 28,
   "id": "7674e102",
   "metadata": {},
   "outputs": [],
   "source": [
    "# Drop unnecessary columns\n",
    "test.drop([\"Sex\", \"Embarked\", \"Name\", \"Ticket\", \"Cabin\"], inplace=True, axis=1)"
   ]
  },
  {
   "cell_type": "code",
   "execution_count": 29,
   "id": "66d20b9c",
   "metadata": {},
   "outputs": [],
   "source": [
    "# Create X and y\n",
    "X_test_real = test\n",
    "pred_real = forest.predict(X_test_real)"
   ]
  },
  {
   "cell_type": "code",
   "execution_count": 30,
   "id": "c0e1ce0e",
   "metadata": {},
   "outputs": [],
   "source": [
    "# Save predictions as output in csv file\n",
    "output = pd.DataFrame({'PassengerId': test.PassengerId, 'Survived': pred_real})\n",
    "output.to_csv('submission 220428.csv', index=False)"
   ]
  }
 ],
 "metadata": {
  "kernelspec": {
   "display_name": "Python 3 (ipykernel)",
   "language": "python",
   "name": "python3"
  },
  "language_info": {
   "codemirror_mode": {
    "name": "ipython",
    "version": 3
   },
   "file_extension": ".py",
   "mimetype": "text/x-python",
   "name": "python",
   "nbconvert_exporter": "python",
   "pygments_lexer": "ipython3",
   "version": "3.9.7"
  }
 },
 "nbformat": 4,
 "nbformat_minor": 5
}
